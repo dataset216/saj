{ 
 "cells": [
  {
   "cell_type": "code",
   "execution_count": 1,
   "id": "d459d2fe",
   "metadata": {},
   "outputs": [
    {
     "name": "stdout",
     "output_type": "stream",
     "text": [
      "A B E C D G F "
     ]
    }
   ],
   "source": [
    "graph={'A':['B','E','C'],'B':['A','D','E'],'D':['B','E'],'E':['A','B','D'],'C':['A','G','F'],'G':['C'],'F':['C']}\n",
    "visited=set()\n",
    "queue=[]\n",
    "def bfs(visited,queue,node):\n",
    "    visited.add(node)\n",
    "    queue.append(node)\n",
    "    while queue:\n",
    "        a=queue.pop(0)\n",
    "        print(a,end=\" \")\n",
    "        for n in graph[a]:\n",
    "            if n not in visited:\n",
    "                visited.add(n)\n",
    "                queue.append(n)\n",
    "print('bfs traversal in graph :')\n",
    "bfs(visited,queue,'A')"
   ]
  },
  {
   "cell_type": "code",
   "execution_count": 4,
   "id": "9fec1c3d",
   "metadata": {},
   "outputs": [
    {
     "name": "stdout",
     "output_type": "stream",
     "text": [
      "dfs traversal in graph :\n",
      "A B D E C G F "
     ]
    }
   ],
   "source": [
    "graph={'A':['B','E','C'],'B':['A','D','E'],'D':['B','E'],'E':['A','B','D'],'C':['A','G','F'],'G':['C'],'F':['C']}\n",
    "visited=set()\n",
    "def dfs(visited,graph,node):\n",
    "    if node not in visited:\n",
    "        print(node,end=' ')\n",
    "        visited.add(node)\n",
    "        for n in graph[node]:\n",
    "            dfs(visited,graph,n)\n",
    "print('dfs traversal in graph :')\n",
    "dfs(visited,graph,'A')"
   ]
  }
 ],
 "metadata": {
  "kernelspec": {
   "display_name": "Python 3 (ipykernel)",
   "language": "python",
   "name": "python3"
  },
  "language_info": {
   "codemirror_mode": {
    "name": "ipython",
    "version": 3
   },
   "file_extension": ".py",
   "mimetype": "text/x-python",
   "name": "python",
   "nbconvert_exporter": "python",
   "pygments_lexer": "ipython3",
   "version": "3.9.13"
  }
 },
 "nbformat": 4,
 "nbformat_minor": 5
}
