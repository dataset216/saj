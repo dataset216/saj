{
 "cells": [
  {
   "cell_type": "code",
   "execution_count": 2,
   "id": "07cdd920",
   "metadata": {},
   "outputs": [
    {
     "name": "stdout",
     "output_type": "stream",
     "text": [
      "The array after apply selection sort is:\n",
      "[-202, -2, -97, 0, -9, 45, 11, 88, 747]\n"
     ]
    }
   ],
   "source": [
    "arr = [-2, 45, 0, 11, -9,88,-97,-202,747]\n",
    "size = len(arr)\n",
    "def Sort(array, size):\n",
    "    for i in range(size):\n",
    "        min_index=i\n",
    "        for j in range(i+1,size):\n",
    "            if array[j] < array[i]:\n",
    "                min_index = j\n",
    "        (array[i], array[min_index]) = (array[min_index], array[i])\n",
    "\n",
    "Sort(arr, size)\n",
    "print('The array after apply selection sort is:')\n",
    "print(arr)"
   ]
  },
  {
   "cell_type": "code",
   "execution_count": null,
   "id": "e7875b98",
   "metadata": {},
   "outputs": [],
   "source": [
    "import sys\n",
    "\n",
    "\n",
    "def prim_mst(graph, vertices):\n",
    "    key = [sys.maxsize] * vertices\n",
    "    parent = [None] * vertices\n",
    "    mst_set = [False] * vertices\n",
    "\n",
    "    key[0] = 0\n",
    "    parent[0] = -1\n",
    "\n",
    "    for _ in range(vertices):\n",
    "        u = min_key(key, mst_set, vertices)\n",
    "        mst_set[u] = True\n",
    "\n",
    "        for v in range(vertices):\n",
    "            if (\n",
    "                graph[u][v] > 0\n",
    "                and not mst_set[v]\n",
    "                and graph[u][v] < key[v]\n",
    "            ):\n",
    "                key[v] = graph[u][v]\n",
    "                parent[v] = u\n",
    "\n",
    "    print_mst(parent, graph)\n",
    "\n",
    "\n",
    "def min_key(key, mst_set, vertices):\n",
    "    min_val = sys.maxsize\n",
    "    min_index = None\n",
    "\n",
    "    for v in range(vertices):\n",
    "        if key[v] < min_val and not mst_set[v]:\n",
    "            min_val = key[v]\n",
    "            min_index = v\n",
    "\n",
    "    return min_index\n",
    "\n",
    "\n",
    "def print_mst(parent, graph):\n",
    "    print(\"Edge \\tWeight\")\n",
    "    for i in range(1, len(parent)):\n",
    "        print(parent[i], \"-\", i, \"\\t\", graph[i][parent[i]])\n",
    "\n",
    "\n",
    "# Create a graph with 5 vertices\n",
    "V = 5\n",
    "graph = [\n",
    "    [0, 2, 0, 6, 0],\n",
    "    [2, 0, 3, 8, 5],\n",
    "    [0, 3, 0, 0, 7],\n",
    "    [6, 8, 0, 0, 9],\n",
    "    [0, 5, 7, 9, 0]\n",
    "]\n",
    "\n",
    "# Find the Minimal Spanning Tree\n",
    "prim_mst(graph, V)\n"
   ]
  }
 ],
 "metadata": {
  "kernelspec": {
   "display_name": "Python 3 (ipykernel)",
   "language": "python",
   "name": "python3"
  },
  "language_info": {
   "codemirror_mode": {
    "name": "ipython",
    "version": 3
   },
   "file_extension": ".py",
   "mimetype": "text/x-python",
   "name": "python",
   "nbconvert_exporter": "python",
   "pygments_lexer": "ipython3",
   "version": "3.9.13"
  }
 },
 "nbformat": 4,
 "nbformat_minor": 5
}
