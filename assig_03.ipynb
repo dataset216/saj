{ 
 "cells": [
  {
   "cell_type": "code",
   "execution_count": 2,
   "id": "07cdd920",
   "metadata": {},
   "outputs": [
    {
     "name": "stdout",
     "output_type": "stream",
     "text": [
      "The array after apply selection sort is:\n",
      "[-202, -2, -97, 0, -9, 45, 11, 88, 747]\n"
     ]
    }
   ],
   "source": [
    "arr = [-2, 45, 0, 11, -9,88,-97,-202,747]\n",
    "size = len(arr)\n",
    "def Sort(array, size):\n",
    "    for i in range(size):\n",
    "        min_index=i\n",
    "        for j in range(i+1,size):\n",
    "            if array[j] < array[i]:\n",
    "                min_index = j\n",
    "        (array[i], array[min_index]) = (array[min_index], array[i])\n",
    "\n",
    "Sort(arr, size)\n",
    "print('The array after apply selection sort is:')\n",
    "print(arr)"
   ]
  }
 ],
 "metadata": {
  "kernelspec": {
   "display_name": "Python 3 (ipykernel)",
   "language": "python",
   "name": "python3"
  },
  "language_info": {
   "codemirror_mode": {
    "name": "ipython",
    "version": 3
   },
   "file_extension": ".py",
   "mimetype": "text/x-python",
   "name": "python",
   "nbconvert_exporter": "python",
   "pygments_lexer": "ipython3",
   "version": "3.9.13"
  }
 },
 "nbformat": 4,
 "nbformat_minor": 5
}
