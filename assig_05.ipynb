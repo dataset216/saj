{
 "cells": [
  {
   "cell_type": "code",
   "execution_count": null,
   "id": "5415f6e0",
   "metadata": {},
   "outputs": [],
   "source": [
    "# Import Classes\n",
    "from chatterbot import ChatBot\n",
    "from chatterbot.trainers import ListTrainer\n",
    "# Create and Train the Chatbot\n",
    "my_bot = ChatBot(name='PyBot', read_onsly=True, logic_adapter=[\n",
    "                 'chatterbot.logic.MathematicalEvaluation', 'chatterbot.logic.BestMatch'])\n",
    "small_talk = ['hi there', 'hi', 'how do you do', 'how are you',\n",
    "              'I am cool', 'I\\'m fine', 'glad to hear that']\n",
    "math_talk1 = ['pythagorean theorem', 'a square plus b square equal c square']\n",
    "math_talk2 = ['law of cosine', 'c**2=a**2+b**2-2*a*b*cos(gamma)']\n",
    "list_trainer = ListTrainer(my_bot)\n",
    "for item in (small_talk, math_talk1, math_talk2):\n",
    "    list_trainer.train(item)\n",
    "# Communicate with the Python Chatbot\n",
    "print(my_bot.get_response(\"hi\"))\n",
    "print(my_bot.get_response(\"how are you\"))\n",
    "print(my_bot.get_response(\"pythagorean theorem\"))\n"
   ]
  }
 ],
 "metadata": {
  "kernelspec": {
   "display_name": "Python 3 (ipykernel)",
   "language": "python",
   "name": "python3"
  },
  "language_info": {
   "codemirror_mode": {
    "name": "ipython",
    "version": 3
   },
   "file_extension": ".py",
   "mimetype": "text/x-python",
   "name": "python",
   "nbconvert_exporter": "python",
   "pygments_lexer": "ipython3",
   "version": "3.9.13"
  }
 },
 "nbformat": 4,
 "nbformat_minor": 5
}
