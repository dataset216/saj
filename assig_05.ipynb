{ 
 "cells": [
  {
   "cell_type": "code",
   "execution_count": null,
   "id": "5415f6e0",
   "metadata": {},
   "outputs": [],
   "source": [
    "# Import Classes\n",
    "from chatterbot import ChatBot\n",
    "from chatterbot.trainers import ListTrainer\n",
    "# Create and Train the Chatbot\n",
    "my_bot = ChatBot(name='PyBot', read_onsly=True, logic_adapter=[\n",
    "                 'chatterbot.logic.MathematicalEvaluation', 'chatterbot.logic.BestMatch'])\n",
    "small_talk = ['hi there', 'hi', 'how do you do', 'how are you',\n",
    "              'I am cool', 'I\\'m fine', 'glad to hear that']\n",
    "math_talk1 = ['pythagorean theorem', 'a square plus b square equal c square']\n",
    "math_talk2 = ['law of cosine', 'c**2=a**2+b**2-2*a*b*cos(gamma)']\n",
    "list_trainer = ListTrainer(my_bot)\n",
    "for item in (small_talk, math_talk1, math_talk2):\n",
    "    list_trainer.train(item)\n",
    "# Communicate with the Python Chatbot\n",
    "print(my_bot.get_response(\"hi\"))\n",
    "print(my_bot.get_response(\"how are you\"))\n",
    "print(my_bot.get_response(\"pythagorean theorem\"))\n"
   ]
  },
  {
   "cell_type": "code",
   "execution_count": null,
   "id": "56bfdfdc",
   "metadata": {},
   "outputs": [],
   "source": [
    "!pip install chatterbot\n",
    "import random\n",
    "# Define possible responses\n",
    "greetings = ['hello', 'hi', 'hey']\n",
    "farewells = ['goodbye', 'bye', 'see you later']\n",
    "questions = ['how are you?', 'what is your name?', 'what do you do?']\n",
    "responses = {\n",
    " 'hello': ['Hello!', 'Hi there!', 'Hey!'],\n",
    " 'goodbye': ['Goodbye!', 'Bye!', 'See you later!'],\n",
    " 'how are you?': ['I am doing well, thank you!', 'Not too bad, thanks for asking!', 'I am great!'],\n",
    " 'what is your name?': ['My name is Chatbot!', 'You can call me Chatbot!', 'I am Chatbot!'],\n",
    " 'what do you do?': ['I am here to help you with your queries!', 'I can assist you with anything you need!', 'I am a customer service chatbot!'] \n",
    "}\n",
    "# Define function to generate response\n",
    "def generate_response(message):\n",
    "    if message.lower() in greetings:\n",
    "        return random.choice(responses['hello'])\n",
    "    elif message.lower() in farewells:\n",
    "        return random.choice(responses['goodbye'])\n",
    "    elif message.lower() in questions:\n",
    "        return random.choice(responses[message.lower()])\n",
    "    else:\n",
    "        return \"I'm sorry, I didn't understand your message.\"\n",
    "    \n",
    "    # Define main function to run chatbot\n",
    "def main():\n",
    "    print(\"Welcome to the chatbot!\")\n",
    "    while True:\n",
    "        message = input(\"You: \")\n",
    "        if message.lower() == 'exit':\n",
    "            print(\"Chatbot: Goodbye!\")\n",
    "            break\n",
    "        else:\n",
    "            response = generate_response(message)\n",
    "            print(\"Chatbot:\", response)\n",
    "\n",
    "if __name__ == '__main__':\n",
    "    main()"
   ]
  }
 ],
 "metadata": {
  "kernelspec": {
   "display_name": "Python 3 (ipykernel)",
   "language": "python",
   "name": "python3"
  },
  "language_info": {
   "codemirror_mode": {
    "name": "ipython",
    "version": 3
   },
   "file_extension": ".py",
   "mimetype": "text/x-python",
   "name": "python",
   "nbconvert_exporter": "python",
   "pygments_lexer": "ipython3",
   "version": "3.9.13"
  }
 },
 "nbformat": 4,
 "nbformat_minor": 5
}
