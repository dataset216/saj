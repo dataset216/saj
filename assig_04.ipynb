{
 "cells": [
  {
   "cell_type": "code",
   "execution_count": null,
   "id": "5402fe1a",
   "metadata": {},
   "outputs": [],
   "source": [
    "def solve_n_queens(n):\n",
    "    board = [[\".\" for _ in range(n)] for _ in range(n)]\n",
    "    solutions = []\n",
    "    cols = [False] * n\n",
    "    diagonals1 = [False] * (2 * n - 1)\n",
    "    diagonals2 = [False] * (2 * n - 1)\n",
    "\n",
    "    def backtrack(row):\n",
    "        if row == n:\n",
    "            solution = [\"\".join(row) for row in board]\n",
    "            solutions.append(solution)\n",
    "            return\n",
    "\n",
    "        for col in range(n):\n",
    "            if not is_threatened(row, col):\n",
    "                place_queen(row, col)\n",
    "                backtrack(row + 1)\n",
    "                remove_queen(row, col)\n",
    "\n",
    "    def is_threatened(row, col):\n",
    "        return cols[col] or diagonals1[row + col] or diagonals2[row - col + n - 1]\n",
    "\n",
    "    def place_queen(row, col):\n",
    "        board[row][col] = \"Q\"\n",
    "        cols[col] = True\n",
    "        diagonals1[row + col] = True\n",
    "        diagonals2[row - col + n - 1] = True\n",
    "\n",
    "    def remove_queen(row, col):\n",
    "        board[row][col] = \".\"\n",
    "        cols[col] = False\n",
    "        diagonals1[row + col] = False\n",
    "        diagonals2[row - col + n - 1] = False\n",
    "\n",
    "    backtrack(0)\n",
    "    return solutions\n",
    "\n",
    "\n",
    "# Example usage:\n",
    "n = 4\n",
    "solutions = solve_n_queens(n)\n",
    "\n",
    "for solution in solutions:\n",
    "    print(\"\\n\".join(solution))\n",
    "    print()\n"
   ]
  }
 ],
 "metadata": {
  "kernelspec": {
   "display_name": "Python 3 (ipykernel)",
   "language": "python",
   "name": "python3"
  },
  "language_info": {
   "codemirror_mode": {
    "name": "ipython",
    "version": 3
   },
   "file_extension": ".py",
   "mimetype": "text/x-python",
   "name": "python",
   "nbconvert_exporter": "python",
   "pygments_lexer": "ipython3",
   "version": "3.9.13"
  }
 },
 "nbformat": 4,
 "nbformat_minor": 5
}
