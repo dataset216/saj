{
 "cells": [
  {
   "cell_type": "code",
   "execution_count": 1,
   "id": "35009385",
   "metadata": {},
   "outputs": [
    {
     "ename": "SyntaxError",
     "evalue": "invalid syntax (2734420089.py, line 2)",
     "output_type": "error",
     "traceback": [
      "\u001b[1;36m  File \u001b[1;32m\"C:\\Users\\mayur\\AppData\\Local\\Temp\\ipykernel_9700\\2734420089.py\"\u001b[1;36m, line \u001b[1;32m2\u001b[0m\n\u001b[1;33m    us-east-1.console.aws.amazon.com/comprehendmedical/home?region-us-east-1#welcome\u001b[0m\n\u001b[1;37m              ^\u001b[0m\n\u001b[1;31mSyntaxError\u001b[0m\u001b[1;31m:\u001b[0m invalid syntax\n"
     ]
    }
   ],
   "source": [
    "# Step-1 \n",
    "us-east-1.console.aws.amazon.com/comprehendmedical/home?region-us-east-1#welcome\n",
    "\n",
    "#Step-2\n",
    "ap-southeast-2.console.aws.amazon.com/ec2/home?region-ap-southeast-20Home\n",
    "\n",
    "#Step-3\n",
    "ap-southeast-2.console.aws.amazon.com/ec2/home?region-ap-southeast-2#Instances\n",
    "\n",
    "#Step-4\n",
    "ap-southeast-2.console.aws.amazon.com/ec2/home?region-ap-southeast-2#Launchinstances\n",
    "\n",
    "#Step-5\n",
    "ap-southeast-2.console.aws.amazon.com/ec2/home?region-ap-southeast-2#LaunchInstances\n",
    "\n",
    "#Step-6\n",
    "ap-southeast-2.console.aws.amazon.com/ec2/home?region-ap-southeast-2#LaunchInstances"
   ]
  }
 ],
 "metadata": {
  "kernelspec": {
   "display_name": "Python 3 (ipykernel)",
   "language": "python",
   "name": "python3"
  },
  "language_info": {
   "codemirror_mode": {
    "name": "ipython",
    "version": 3
   },
   "file_extension": ".py",
   "mimetype": "text/x-python",
   "name": "python",
   "nbconvert_exporter": "python",
   "pygments_lexer": "ipython3",
   "version": "3.9.13"
  }
 },
 "nbformat": 4,
 "nbformat_minor": 5
}
