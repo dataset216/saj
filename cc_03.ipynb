{ 
 "cells": [
  {
   "cell_type": "code",
   "execution_count": null,
   "id": "7cc9a823",
   "metadata": {},
   "outputs": [],
   "source": [
    "# Step-1\n",
    "test-29d-dev-ed.develop.lightning.force.com/lightning/setup/SetupOneHome/home\n",
    "\n",
    "# Step-2\n",
    "test-29d-dev-ed.develop.lightning.force.com/lightning/setup/NavigationMenus/home\n",
    "\n",
    "# Step-3\n",
    "test-29d-dev-ed.develop.lightning.force.com/lightning/page/home\n",
    "\n",
    "# Step-4\n",
    "test-29d-dev-ed.develop.lightning.force.com/lightning/r/Demo_c/a005i00000FcaCLAAZ/view\n",
    "\n",
    "# Step-5\n",
    "test-29d-dev-ed.develop.lightning.force.com/lightning/o/Demo_c/list?filterName=Recent\n",
    "\n",
    "# Step-6\n",
    "test-29d-dev-ed.develop.my.salesforce.com/_ui/common/apex/debug/ApexCSIPage\n",
    "\n",
    "public class ApexDMLMethod (\n",
    "    public static void demoMethod(){\n",
    "        insertDm1();\n",
    "    }\n",
    "    public static void insertDm1(){\n",
    "        List<Account> accountList = new List<Account>();\n",
    "        system.debug('accountList:+accountList);\n",
    "                     \n",
    "        Account accountobject=new Account();\n",
    "        accountobject.Name = 'Saleforce Noob';\n",
    "\n",
    "        accountList.add(accountobject);\n",
    "\n",
    "        system.debug('accountList: +accountList);\n",
    "        \n",
    "        if(laccountList.isEmpty()){\n",
    "                insert accountobject;\n",
    "        }\n",
    "} "
   ]
  }
 ],
 "metadata": {
  "kernelspec": {
   "display_name": "Python 3 (ipykernel)",
   "language": "python",
   "name": "python3"
  },
  "language_info": {
   "codemirror_mode": {
    "name": "ipython",
    "version": 3
   },
   "file_extension": ".py",
   "mimetype": "text/x-python",
   "name": "python",
   "nbconvert_exporter": "python",
   "pygments_lexer": "ipython3",
   "version": "3.9.13"
  }
 },
 "nbformat": 4,
 "nbformat_minor": 5
}
